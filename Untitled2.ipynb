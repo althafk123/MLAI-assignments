{
 "cells": [
  {
   "cell_type": "code",
   "execution_count": 8,
   "id": "0db162cb",
   "metadata": {},
   "outputs": [
    {
     "ename": "SyntaxError",
     "evalue": "invalid syntax (118318919.py, line 3)",
     "output_type": "error",
     "traceback": [
      "\u001b[1;36m  Cell \u001b[1;32mIn[8], line 3\u001b[1;36m\u001b[0m\n\u001b[1;33m    top max(sc_set)\u001b[0m\n\u001b[1;37m        ^\u001b[0m\n\u001b[1;31mSyntaxError\u001b[0m\u001b[1;31m:\u001b[0m invalid syntax\n"
     ]
    }
   ],
   "source": [
    "scores=[55,65,80,66,48,56,64,73,53,53]\n",
    "sc_set=set(scores)\n",
    "top max(sc_set)\n",
    "sc_set.remove(top)\n",
    "print(max(sc_set))"
   ]
  },
  {
   "cell_type": "code",
   "execution_count": 2,
   "id": "f36d87aa",
   "metadata": {},
   "outputs": [
    {
     "name": "stdout",
     "output_type": "stream",
     "text": [
      "73\n"
     ]
    }
   ],
   "source": [
    "scores=[55,65,80,66,48,56,64,73,53,53]\n",
    "sc_set=set(scores)\n",
    "top=max(sc_set)\n",
    "sc_set.remove(top)\n",
    "print(max(sc_set))"
   ]
  },
  {
   "cell_type": "code",
   "execution_count": 7,
   "id": "db1a46ed",
   "metadata": {},
   "outputs": [
    {
     "name": "stdout",
     "output_type": "stream",
     "text": [
      "{8, 5, 6}\n"
     ]
    }
   ],
   "source": [
    "a={5,6,9,7,8,13}\n",
    "b={1,5,4,8,12,6}\n",
    "if a.intersection(b):\n",
    "    print(a&b)\n",
    "else:\n",
    "        print(a.union(b))"
   ]
  },
  {
   "cell_type": "code",
   "execution_count": 2,
   "id": "6c127a6a",
   "metadata": {},
   "outputs": [
    {
     "name": "stdout",
     "output_type": "stream",
     "text": [
      "Enter the name to be updatedJohn\n",
      "{'John': [88, 77, 99], 'Peter': [87, 55, 96], 'Ram': [58, 55, 43], 'Meena': [63, 79, 85]}\n"
     ]
    }
   ],
   "source": [
    "D={'John' :[25,32,43],'Peter':[87,55,96],'Ram':[58,55,43],'Meena':[63,79,85]}\n",
    "n=input('Enter the name to be updated')\n",
    "if n in D:\n",
    "    D[n] =[88,77,99]\n",
    "    print(D)\n",
    "else:\n",
    "       print('name not found')\n"
   ]
  },
  {
   "cell_type": "code",
   "execution_count": 3,
   "id": "649dfdd3",
   "metadata": {},
   "outputs": [],
   "source": [
    "s='Nirmala'"
   ]
  },
  {
   "cell_type": "code",
   "execution_count": 4,
   "id": "bc5b5f4d",
   "metadata": {},
   "outputs": [
    {
     "data": {
      "text/plain": [
       "'Nraa'"
      ]
     },
     "execution_count": 4,
     "metadata": {},
     "output_type": "execute_result"
    }
   ],
   "source": [
    "s[::2]"
   ]
  },
  {
   "cell_type": "code",
   "execution_count": 6,
   "id": "b2148fb1",
   "metadata": {},
   "outputs": [
    {
     "name": "stdout",
     "output_type": "stream",
     "text": [
      "Elder = 36\n",
      "youngest= 23\n"
     ]
    }
   ],
   "source": [
    "age=[23,28,36]\n",
    "print('Elder =',max(age))\n",
    "print('youngest=',min(age))"
   ]
  },
  {
   "cell_type": "code",
   "execution_count": null,
   "id": "915162ed",
   "metadata": {},
   "outputs": [],
   "source": []
  }
 ],
 "metadata": {
  "kernelspec": {
   "display_name": "Python 3 (ipykernel)",
   "language": "python",
   "name": "python3"
  },
  "language_info": {
   "codemirror_mode": {
    "name": "ipython",
    "version": 3
   },
   "file_extension": ".py",
   "mimetype": "text/x-python",
   "name": "python",
   "nbconvert_exporter": "python",
   "pygments_lexer": "ipython3",
   "version": "3.11.5"
  }
 },
 "nbformat": 4,
 "nbformat_minor": 5
}
